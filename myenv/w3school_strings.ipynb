{
 "cells": [
  {
   "cell_type": "code",
   "execution_count": 1,
   "metadata": {},
   "outputs": [
    {
     "name": "stdout",
     "output_type": "stream",
     "text": [
      "Hello world!!\n"
     ]
    }
   ],
   "source": [
    "print(\"Hello world!!\")"
   ]
  },
  {
   "cell_type": "code",
   "execution_count": 3,
   "metadata": {},
   "outputs": [
    {
     "name": "stdout",
     "output_type": "stream",
     "text": [
      " this is a muiltiline string \n",
      "        and it is a string that is more than one line long\n",
      "        and it is a string that is more than one line long\n",
      "        hahahahahhaha \n",
      " this is a muiltiline string \n",
      "        and it is a string that is more than one line long\n",
      "        and it is a string that is more than one line long\n",
      "        hahahahahhaha \n"
     ]
    }
   ],
   "source": [
    "#Multi-line strings\n",
    "\n",
    "print(''' this is a muiltiline string \n",
    "        and it is a string that is more than one line long\n",
    "        and it is a string that is more than one line long\n",
    "        hahahahahhaha ''')\n",
    "\n",
    "# or you can define it at a variable\n",
    "a = ''' this is a muiltiline string \n",
    "        and it is a string that is more than one line long\n",
    "        and it is a string that is more than one line long\n",
    "        hahahahahhaha '''\n",
    "print(a)\n",
    "\n",
    "# single double quotes or single quotes are the same"
   ]
  },
  {
   "cell_type": "code",
   "execution_count": 10,
   "metadata": {},
   "outputs": [
    {
     "name": "stdout",
     "output_type": "stream",
     "text": [
      "hello\n",
      "5\n",
      "True\n"
     ]
    }
   ],
   "source": [
    "# loop through a string and print in one line\n",
    "\n",
    "for i in \"hello\":\n",
    "    print(i, end='') # default is end='\\n' which is new line\n",
    "print(\"\")\n",
    "\n",
    "# string length\n",
    "\n",
    "print(len(\"hello\"))\n",
    "\n",
    "# to check if a string is in a string\n",
    "text = \"hello world\"\n",
    "print(\"hello\" in text) # True\n",
    "\n",
    "\n",
    "\n"
   ]
  },
  {
   "cell_type": "code",
   "execution_count": 2,
   "metadata": {},
   "outputs": [
    {
     "name": "stdout",
     "output_type": "stream",
     "text": [
      "hello\n",
      "world\n",
      "world\n",
      "llo\n",
      "wor\n"
     ]
    }
   ],
   "source": [
    "# Slicing strings \n",
    "# slicing is used to get a part of a string\n",
    "# syntax is [start:stop:step]\n",
    "\n",
    "b = \"hello world\"\n",
    "\n",
    "# slice from start\n",
    "print(b[0:5]) # hello\n",
    "\n",
    "#slice to the end\n",
    "print(b[6:]) # world\n",
    "\n",
    "# slice from start to stop\n",
    "print(b[6:11]) # world\n",
    "\n",
    "print(b[2:5])\n",
    "\n",
    "# negative slicing\n",
    "# negative slicing starts from the end of the string\n",
    "# -1 is the last character of the string\n",
    "print(b[-5:-2])"
   ]
  },
  {
   "cell_type": "code",
   "execution_count": 8,
   "metadata": {},
   "outputs": [
    {
     "name": "stdout",
     "output_type": "stream",
     "text": [
      "HELLO WORLD\n",
      "hello world\n",
      "Hello world\n",
      " Jello world \n",
      "['', 'Hello', 'world', '']\n"
     ]
    }
   ],
   "source": [
    "# Modify strings\n",
    "\n",
    "a = \"Hello world\"\n",
    "\n",
    "print(a.upper())\n",
    "\n",
    "print(a.lower())\n",
    "\n",
    "#remove white spaces\n",
    "a = \" Hello world \"\n",
    "print(a.strip())\n",
    "\n",
    "#replace string\n",
    "print(a.replace(\"H\", \"J\"))\n",
    "\n",
    "#split string\n",
    "#The split() method splits the string into substrings if it finds instances of the separator\n",
    "print(a.split(\" \"))"
   ]
  },
  {
   "cell_type": "code",
   "execution_count": 9,
   "metadata": {},
   "outputs": [
    {
     "name": "stdout",
     "output_type": "stream",
     "text": [
      "HelloWorld\n"
     ]
    }
   ],
   "source": [
    "# Concatenate strings\n",
    "\n",
    "a = \"Hello\"\n",
    "b = \"World\"\n",
    "c = a + b\n",
    "print(c)"
   ]
  },
  {
   "cell_type": "code",
   "execution_count": 15,
   "metadata": {},
   "outputs": [
    {
     "name": "stdout",
     "output_type": "stream",
     "text": [
      "My age is 19\n",
      "The price is 59.00 dollars\n"
     ]
    }
   ],
   "source": [
    "# Format strings\n",
    "\n",
    "age = 19 \n",
    "\n",
    "txt = f\"My age is {age}\"\n",
    "\n",
    "print(txt)\n",
    "\n",
    "price = 59\n",
    "# format with 2 decimal places\n",
    "txt = f\"The price is {price:.2f} dollars\"\n",
    "\n",
    "print(txt)"
   ]
  },
  {
   "cell_type": "code",
   "execution_count": 2,
   "metadata": {},
   "outputs": [
    {
     "name": "stdout",
     "output_type": "stream",
     "text": [
      " We are the so-called \"Vikings\" from the north\n"
     ]
    }
   ],
   "source": [
    "# Excape characters\n",
    "\n",
    "# use \\ to escape characters\n",
    "txt = \" We are the so-called \\\"Vikings\\\" from the north\"\n",
    "print(txt)\n",
    "\n"
   ]
  },
  {
   "attachments": {
    "image.png": {
     "image/png": "[encoded data removed]"
    }
   },
   "cell_type": "markdown",
   "metadata": {},
   "source": [
    "![image.png](attachment:image.png)"
   ]
  },
  {
   "cell_type": "code",
   "execution_count": 3,
   "metadata": {},
   "outputs": [
    {
     "name": "stdout",
     "output_type": "stream",
     "text": [
      "Hello world\n",
      "hello world\n",
      "    hello world     \n",
      "3\n",
      "b'hello world'\n",
      "True\n",
      "hello world\n",
      "2\n",
      "2\n"
     ]
    }
   ],
   "source": [
    "# String methods\n",
    "\n",
    "a = \"hello world\"\n",
    "\n",
    "print(a.capitalize()) # convert the first character to upper case\n",
    "\n",
    "print(a.casefold()) # convert the string to lower case\n",
    "\n",
    "print(a.center(20)) # center the string\n",
    "\n",
    "print(a.count(\"l\")) # count the number of times a string appears in a string\n",
    "\n",
    "print(a.encode()) # encode the string\n",
    "\n",
    "print(a.endswith(\"d\")) # check if the string ends with a specific string\n",
    "\n",
    "print(a.expandtabs(2)) # set the tab size of the string\n",
    "\n",
    "print(a.find(\"l\")) # find the first occurence of a string\n",
    "\n",
    "print(a.index(\"l\")) # find the first occurence of a string"
   ]
  },
  {
   "cell_type": "markdown",
   "metadata": {},
   "source": [
    "| Method        | Description                                                                 |\n",
    "|---------------|-----------------------------------------------------------------------------|\n",
    "| capitalize()  | Converts the first character to upper case                                  |\n",
    "| casefold()    | Converts string into lower case                                             |\n",
    "| center()      | Returns a centered string                                                   |\n",
    "| count()       | Returns the number of times a specified value occurs in a string            |\n",
    "| encode()      | Returns an encoded version of the string                                    |\n",
    "| endswith()    | Returns true if the string ends with the specified value                    |\n",
    "| expandtabs()  | Sets the tab size of the string                                             |\n",
    "| find()        | Searches the string for a specified value and returns the position of where it was found |\n",
    "| format()      | Formats specified values in a string                                        |\n",
    "| format_map()  | Formats specified values in a string                                        |\n",
    "| index()       | Searches the string for a specified value and returns the position of where it was found |\n",
    "| isalnum()     | Returns True if all characters in the string are alphanumeric               |\n",
    "| isalpha()     | Returns True if all characters in the string are in the alphabet            |\n",
    "| isascii()     | Returns True if all characters in the string are ascii characters           |\n",
    "| isdecimal()   | Returns True if all characters in the string are decimals                   |\n",
    "| isdigit()     | Returns True if all characters in the string are digits                     |\n",
    "| isidentifier()| Returns True if the string is an identifier                                 |\n",
    "| islower()     | Returns True if all characters in the string are lower case                 |\n",
    "| isnumeric()   | Returns True if all characters in the string are numeric                    |\n",
    "| isprintable() | Returns True if all characters in the string are printable                  |\n",
    "| isspace()     | Returns True if all characters in the string are whitespaces                |\n",
    "| istitle()     | Returns True if the string follows the rules of a title                     |\n",
    "| isupper()     | Returns True if all characters in the string are upper case                 |\n",
    "| join()        | Joins the elements of an iterable to the end of the string                  |\n",
    "| ljust()       | Returns a left justified version of the string                              |\n",
    "| lower()       | Converts a string into lower case                                           |\n",
    "| lstrip()      | Returns a left trim version of the string                                   |\n",
    "| maketrans()   | Returns a translation table to be used in translations                      |\n",
    "| partition()   | Returns a tuple where the string is parted into three parts                 |\n",
    "| replace()     | Returns a string where a specified value is replaced with a specified value |\n",
    "| rfind()       | Searches the string for a specified value and returns the last position of where it was found |\n",
    "| rindex()      | Searches the string for a specified value and returns the last position of where it was found |\n",
    "| rjust()       | Returns a right justified version of the string                             |\n",
    "| rpartition()  | Returns a tuple where the string is parted into three parts                 |\n",
    "| rsplit()      | Splits the string at the specified separator, and returns a list            |\n",
    "| rstrip()      | Returns a right trim version of the string                                  |\n",
    "| split()       | Splits the string at the specified separator, and returns a list            |\n",
    "| splitlines()  | Splits the string at line breaks and returns a list                         |\n",
    "| startswith()  | Returns true if the string starts with the specified value                  |\n",
    "| strip()       | Returns a trimmed version of the string                                     |\n",
    "| swapcase()    | Swaps cases, lower case becomes upper case and vice versa                   |\n",
    "| title()       | Converts the first character of each word to upper case                     |\n",
    "| translate()   | Returns a translated string                                                 |\n",
    "| upper()       | Converts a string into upper case                                           |\n",
    "| zfill()       | Fills the string with a specified number of 0 values at the beginning        |"
   ]
  },
  {
   "cell_type": "code",
   "execution_count": null,
   "metadata": {},
   "outputs": [],
   "source": []
  }
 ],
 "metadata": {
  "kernelspec": {
   "display_name": "ratt_env",
   "language": "python",
   "name": "python3"
  },
  "language_info": {
   "codemirror_mode": {
    "name": "ipython",
    "version": 3
   },
   "file_extension": ".py",
   "mimetype": "text/x-python",
   "name": "python",
   "nbconvert_exporter": "python",
   "pygments_lexer": "ipython3",
   "version": "3.9.13"
  }
 },
 "nbformat": 4,
 "nbformat_minor": 2
}
